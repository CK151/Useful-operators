{
 "cells": [
  {
   "cell_type": "markdown",
   "id": "2371c691",
   "metadata": {},
   "source": [
    "zip"
   ]
  },
  {
   "cell_type": "code",
   "execution_count": 23,
   "id": "3396fb92",
   "metadata": {},
   "outputs": [],
   "source": [
    "mylist = list(range(5))"
   ]
  },
  {
   "cell_type": "code",
   "execution_count": 24,
   "id": "0ff594c9",
   "metadata": {},
   "outputs": [
    {
     "data": {
      "text/plain": [
       "[0, 1, 2, 3, 4]"
      ]
     },
     "execution_count": 24,
     "metadata": {},
     "output_type": "execute_result"
    }
   ],
   "source": [
    "mylist"
   ]
  },
  {
   "cell_type": "code",
   "execution_count": 25,
   "id": "e898c304",
   "metadata": {},
   "outputs": [],
   "source": [
    "mylist1 = list(range(5,10))"
   ]
  },
  {
   "cell_type": "code",
   "execution_count": 26,
   "id": "05d55226",
   "metadata": {},
   "outputs": [
    {
     "data": {
      "text/plain": [
       "[5, 6, 7, 8, 9]"
      ]
     },
     "execution_count": 26,
     "metadata": {},
     "output_type": "execute_result"
    }
   ],
   "source": [
    "mylist1"
   ]
  },
  {
   "cell_type": "code",
   "execution_count": 27,
   "id": "0600a288",
   "metadata": {},
   "outputs": [
    {
     "data": {
      "text/plain": [
       "<zip at 0x7fa41a080140>"
      ]
     },
     "execution_count": 27,
     "metadata": {},
     "output_type": "execute_result"
    }
   ],
   "source": [
    "zip(mylist, mylist1)"
   ]
  },
  {
   "cell_type": "code",
   "execution_count": 29,
   "id": "45963fb9",
   "metadata": {},
   "outputs": [
    {
     "name": "stdout",
     "output_type": "stream",
     "text": [
      "0\n",
      "1\n",
      "2\n",
      "3\n",
      "4\n"
     ]
    }
   ],
   "source": [
    "for a,b in zip(mylist, mylist1):\n",
    "    print(a)"
   ]
  },
  {
   "cell_type": "code",
   "execution_count": 30,
   "id": "82b3905e",
   "metadata": {},
   "outputs": [],
   "source": [
    "myletter = [\"a\",\"b\",\"c\"]"
   ]
  },
  {
   "cell_type": "code",
   "execution_count": 35,
   "id": "9b47579a",
   "metadata": {},
   "outputs": [
    {
     "name": "stdout",
     "output_type": "stream",
     "text": [
      "0\n",
      "a\n",
      "5\n",
      "1\n",
      "b\n",
      "6\n",
      "2\n",
      "c\n",
      "7\n"
     ]
    }
   ],
   "source": [
    "for a,b,c in zip(mylist, myletter, mylist1):\n",
    "    print(a)\n",
    "    print(b)\n",
    "    print(c)"
   ]
  },
  {
   "cell_type": "markdown",
   "id": "746c42fc",
   "metadata": {},
   "source": [
    "in"
   ]
  },
  {
   "cell_type": "code",
   "execution_count": 38,
   "id": "62f219c3",
   "metadata": {},
   "outputs": [
    {
     "data": {
      "text/plain": [
       "False"
      ]
     },
     "execution_count": 38,
     "metadata": {},
     "output_type": "execute_result"
    }
   ],
   "source": [
    " \"z\" in \"anderson\""
   ]
  },
  {
   "cell_type": "code",
   "execution_count": 39,
   "id": "617e37a7",
   "metadata": {},
   "outputs": [
    {
     "data": {
      "text/plain": [
       "False"
      ]
     },
     "execution_count": 39,
     "metadata": {},
     "output_type": "execute_result"
    }
   ],
   "source": [
    "\"A\" in \"anderson\""
   ]
  },
  {
   "cell_type": "code",
   "execution_count": 41,
   "id": "28e30306",
   "metadata": {},
   "outputs": [
    {
     "data": {
      "text/plain": [
       "True"
      ]
     },
     "execution_count": 41,
     "metadata": {},
     "output_type": "execute_result"
    }
   ],
   "source": [
    "12 in [1,2,3,4,10,12]"
   ]
  },
  {
   "cell_type": "code",
   "execution_count": 44,
   "id": "f1027702",
   "metadata": {},
   "outputs": [
    {
     "data": {
      "text/plain": [
       "True"
      ]
     },
     "execution_count": 44,
     "metadata": {},
     "output_type": "execute_result"
    }
   ],
   "source": [
    "dict = {\n",
    "    \"k2\": 123,\n",
    "    \"k3\": 45\n",
    "}\n",
    "\n",
    "\"k2\" in dict"
   ]
  },
  {
   "cell_type": "code",
   "execution_count": 45,
   "id": "42418732",
   "metadata": {},
   "outputs": [
    {
     "data": {
      "text/plain": [
       "True"
      ]
     },
     "execution_count": 45,
     "metadata": {},
     "output_type": "execute_result"
    }
   ],
   "source": [
    "123 in dict.values()"
   ]
  },
  {
   "cell_type": "code",
   "execution_count": 46,
   "id": "56268cf9",
   "metadata": {},
   "outputs": [
    {
     "data": {
      "text/plain": [
       "True"
      ]
     },
     "execution_count": 46,
     "metadata": {},
     "output_type": "execute_result"
    }
   ],
   "source": [
    "\"k2\" in dict.keys()"
   ]
  },
  {
   "cell_type": "code",
   "execution_count": 48,
   "id": "13828671",
   "metadata": {},
   "outputs": [
    {
     "data": {
      "text/plain": [
       "False"
      ]
     },
     "execution_count": 48,
     "metadata": {},
     "output_type": "execute_result"
    }
   ],
   "source": [
    "\"k5\" in dict.keys()"
   ]
  },
  {
   "cell_type": "markdown",
   "id": "4722f4e7",
   "metadata": {},
   "source": [
    "min max "
   ]
  },
  {
   "cell_type": "code",
   "execution_count": 53,
   "id": "6f3fd656",
   "metadata": {},
   "outputs": [],
   "source": [
    "num = list(range(20))"
   ]
  },
  {
   "cell_type": "code",
   "execution_count": 54,
   "id": "3bd87ff1",
   "metadata": {},
   "outputs": [
    {
     "data": {
      "text/plain": [
       "[0, 1, 2, 3, 4, 5, 6, 7, 8, 9, 10, 11, 12, 13, 14, 15, 16, 17, 18, 19]"
      ]
     },
     "execution_count": 54,
     "metadata": {},
     "output_type": "execute_result"
    }
   ],
   "source": [
    "num"
   ]
  },
  {
   "cell_type": "code",
   "execution_count": 55,
   "id": "a1509a8d",
   "metadata": {},
   "outputs": [
    {
     "data": {
      "text/plain": [
       "0"
      ]
     },
     "execution_count": 55,
     "metadata": {},
     "output_type": "execute_result"
    }
   ],
   "source": [
    "min(num)"
   ]
  },
  {
   "cell_type": "code",
   "execution_count": 56,
   "id": "06638536",
   "metadata": {},
   "outputs": [
    {
     "data": {
      "text/plain": [
       "19"
      ]
     },
     "execution_count": 56,
     "metadata": {},
     "output_type": "execute_result"
    }
   ],
   "source": [
    "max(num)"
   ]
  },
  {
   "cell_type": "code",
   "execution_count": 57,
   "id": "b13e177f",
   "metadata": {},
   "outputs": [],
   "source": [
    "from random import shuffle"
   ]
  },
  {
   "cell_type": "code",
   "execution_count": 63,
   "id": "ec1af78f",
   "metadata": {},
   "outputs": [],
   "source": [
    "shuffle(num)"
   ]
  },
  {
   "cell_type": "code",
   "execution_count": 64,
   "id": "d8b71b1a",
   "metadata": {},
   "outputs": [
    {
     "data": {
      "text/plain": [
       "[18, 12, 17, 19, 1, 16, 9, 13, 4, 8, 2, 14, 11, 0, 15, 5, 6, 10, 3, 7]"
      ]
     },
     "execution_count": 64,
     "metadata": {},
     "output_type": "execute_result"
    }
   ],
   "source": [
    "num"
   ]
  },
  {
   "cell_type": "code",
   "execution_count": 65,
   "id": "31c7876b",
   "metadata": {},
   "outputs": [],
   "source": [
    "from random import randint"
   ]
  },
  {
   "cell_type": "code",
   "execution_count": 69,
   "id": "ab2b5731",
   "metadata": {},
   "outputs": [
    {
     "data": {
      "text/plain": [
       "100"
      ]
     },
     "execution_count": 69,
     "metadata": {},
     "output_type": "execute_result"
    }
   ],
   "source": [
    "randint(20, 500)"
   ]
  },
  {
   "cell_type": "markdown",
   "id": "c412ca90",
   "metadata": {},
   "source": [
    "input"
   ]
  },
  {
   "cell_type": "code",
   "execution_count": 70,
   "id": "6de89933",
   "metadata": {},
   "outputs": [
    {
     "name": "stdout",
     "output_type": "stream",
     "text": [
      "Please enter your usernameAnderson\n"
     ]
    }
   ],
   "source": [
    "user = input(\"Please enter your username\")"
   ]
  },
  {
   "cell_type": "code",
   "execution_count": 71,
   "id": "2d842af4",
   "metadata": {},
   "outputs": [
    {
     "name": "stdout",
     "output_type": "stream",
     "text": [
      "Please enter your username: Anderson\n"
     ]
    }
   ],
   "source": [
    "user = input(\"Please enter your username: \")"
   ]
  },
  {
   "cell_type": "code",
   "execution_count": 77,
   "id": "975c66d8",
   "metadata": {},
   "outputs": [
    {
     "name": "stdout",
     "output_type": "stream",
     "text": [
      "Please enter an integer: 34\n"
     ]
    }
   ],
   "source": [
    "user = int(input(\"Please enter an integer: \"))"
   ]
  },
  {
   "cell_type": "code",
   "execution_count": 79,
   "id": "9537d633",
   "metadata": {},
   "outputs": [
    {
     "name": "stdout",
     "output_type": "stream",
     "text": [
      "Please enter an integer: 12.0\n"
     ]
    }
   ],
   "source": [
    "user = float(input(\"Please enter an integer: \"))"
   ]
  },
  {
   "cell_type": "code",
   "execution_count": null,
   "id": "153efd17",
   "metadata": {},
   "outputs": [],
   "source": []
  }
 ],
 "metadata": {
  "kernelspec": {
   "display_name": "Python 3 (ipykernel)",
   "language": "python",
   "name": "python3"
  },
  "language_info": {
   "codemirror_mode": {
    "name": "ipython",
    "version": 3
   },
   "file_extension": ".py",
   "mimetype": "text/x-python",
   "name": "python",
   "nbconvert_exporter": "python",
   "pygments_lexer": "ipython3",
   "version": "3.9.7"
  }
 },
 "nbformat": 4,
 "nbformat_minor": 5
}
